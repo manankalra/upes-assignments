{
 "cells": [
  {
   "cell_type": "markdown",
   "metadata": {},
   "source": [
    "# Manan Kalra [CSE-CCVT (2014-2018)]"
   ]
  },
  {
   "cell_type": "markdown",
   "metadata": {},
   "source": [
    "### Question 4"
   ]
  },
  {
   "cell_type": "markdown",
   "metadata": {},
   "source": [
    "Devasena was the princess of an unknown kingdom (we'll all know which one, in Baahubali 2 ;) ), and her father arranged for a Swayamvara to get her married. He gave all of them a question, and the question was so hard that nobody was able to answer it (Yes you guessed it right, both Baahubali and Bhallaladeva were not present there for the Swayamvara). We all know that Amarendra Baahubali married her later and as a consequence of so many things, she was imprisoned for 25 years. Who knows, if someone else had answered the question that day, then she would have got married to him and things could have been different. Phew! But the bad part, we wouldn't have had the story of Baahubali. :)\n",
    "\n",
    "Although everything is history now, recently archaeologists discovered the secret question that was asked at the Swayamvara, and you think - \"Well, it's such a simple question. I could use a computer to solve it!\". The question goes as follows:\n",
    "\n",
    "You are given N integers (not necessarily distinct) => A1, A2, A3, ..., AN. There are 2N possible subsets (including the empty subset). The GCD of a subset is defined as the greatest common divisor of all the integers in that subset. You need to find the product of the GCDs of all the 2N possible subsets you can construct from A. Since the answer can be large, you need to output the answer modulo 1000000007. Do you think you can solve this question?"
   ]
  },
  {
   "cell_type": "markdown",
   "metadata": {},
   "source": [
    "### Execute \n",
    "```python\n",
    "python3 Question4.py\n",
    "``` \n",
    "### or simply run the code cells in order. (Shift + Enter)"
   ]
  },
  {
   "cell_type": "code",
   "execution_count": 1,
   "metadata": {
    "collapsed": true
   },
   "outputs": [],
   "source": [
    "# input - size of the list, list itself\n",
    "## to-do  \n",
    "## -find powerset of the given list and compute gcd of each set in it\n",
    "## -find the product of all the gcd's \n",
    "# output - product modulo 1000000007"
   ]
  },
  {
   "cell_type": "code",
   "execution_count": 2,
   "metadata": {
    "collapsed": true
   },
   "outputs": [],
   "source": [
    "def main():\n",
    "    \"\"\"\n",
    "    Executes as soon as this script is run.\n",
    "    - Takes custom input\n",
    "    - Returns the result after computing the product modulo 1000000007 of all the gcd's in the given list\n",
    "    \"\"\"\n",
    "    \n",
    "    num = int(input()) # number of test cases\n",
    "    for i in range(num):\n",
    "        x = int(input()) # size if the list\n",
    "        arr = list(map(int, input().split())) # integer list \n",
    "        print(compute(arr)) # print the result to stdout"
   ]
  },
  {
   "cell_type": "code",
   "execution_count": 3,
   "metadata": {
    "collapsed": true
   },
   "outputs": [],
   "source": [
    "from itertools import chain, combinations\n",
    "from functools import reduce\n",
    "\n",
    "\n",
    "\n",
    "def compute(arr):\n",
    "    \"\"\"\n",
    "    Computes the powerset of the parameter list, calculates GCD of each subset in the computed powerset, updates\n",
    "    their product and finally returns product modulo 1000000007\n",
    "    \n",
    "    Parameters\n",
    "    ----------\n",
    "    \n",
    "    arr : list of integers\n",
    "    \n",
    "    Returns\n",
    "    -------\n",
    "    \n",
    "    type: int\n",
    "    description: product of gcd's of all the subsets of the parameter list modulo 100000007\n",
    "    \"\"\"\n",
    "    \n",
    "    product = 1\n",
    "    subsets = list(chain.from_iterable(combinations(arr, r) for r in range(len(arr)+1))) # generates powerset\n",
    "    for i in range(1, len(subsets)): # product of all gcd's\n",
    "        product *= gcd_multiple(subsets[i]) \n",
    "    return product % 1000000007 # taking modulo of the large product\n",
    "\n",
    "\n",
    "def gcd(p, q):\n",
    "    \"\"\"\n",
    "    Returns the Greatest Common Divisor of two numbers using Euclidean method.\n",
    "    \n",
    "    Parameters\n",
    "    ----------\n",
    "    \n",
    "    p, q : both integers\n",
    "    \n",
    "    Returns\n",
    "    -------\n",
    "    \n",
    "    type: int\n",
    "    description: gcd of the parameters\n",
    "    \"\"\"\n",
    "    \n",
    "    # unless q==0, the result will have the same sign as b; so that when\n",
    "    # b is divided by it, the result comes out positive\n",
    "    return abs(p) if q==0 else gcd(q, p % q)\n",
    "\n",
    "\n",
    "\n",
    "def gcd_multiple(integers):\n",
    "    \"\"\"\n",
    "    Uses Recursion to compute GCD of a list of numbers.\n",
    "    \n",
    "    Parameters\n",
    "    ----------\n",
    "    \n",
    "    integers: a list of integers\n",
    "    \n",
    "    Returns\n",
    "    -------\n",
    "    \n",
    "    type: int\n",
    "    description: gcd of the integers in the parameter list\n",
    "    \"\"\"\n",
    "    \n",
    "    # gcd(a, b, c, d) = gcd(gcd(gcd(a,b), c), d); reduce provides the same functionality\n",
    "    ## reduce cumulatively performs an operation; gcd in this case on all the iterable’s elements\n",
    "    ## here, the list integers is an iterable\n",
    "    return reduce(gcd, integers)"
   ]
  },
  {
   "cell_type": "code",
   "execution_count": 4,
   "metadata": {},
   "outputs": [
    {
     "name": "stdout",
     "output_type": "stream",
     "text": [
      "3\n",
      "1\n",
      "1\n",
      "1\n",
      "2\n",
      "1 2\n",
      "2\n",
      "3\n",
      "1 2 2\n",
      "8\n"
     ]
    }
   ],
   "source": [
    "if __name__ == '__main__':\n",
    "    main()"
   ]
  }
 ],
 "metadata": {
  "kernelspec": {
   "display_name": "Python 3",
   "language": "python",
   "name": "python3"
  },
  "language_info": {
   "codemirror_mode": {
    "name": "ipython",
    "version": 3
   },
   "file_extension": ".py",
   "mimetype": "text/x-python",
   "name": "python",
   "nbconvert_exporter": "python",
   "pygments_lexer": "ipython3",
   "version": "3.5.2"
  }
 },
 "nbformat": 4,
 "nbformat_minor": 2
}

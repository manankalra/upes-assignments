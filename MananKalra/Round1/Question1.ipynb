{
 "cells": [
  {
   "cell_type": "markdown",
   "metadata": {},
   "source": [
    "# Manan Kalra [CSE-CCVT (2014-2018)]"
   ]
  },
  {
   "cell_type": "markdown",
   "metadata": {},
   "source": [
    "### Question 1"
   ]
  },
  {
   "cell_type": "markdown",
   "metadata": {},
   "source": [
    "Uber has introduced UberPool to make sure there are fewer cars on the road, which means less traffic, faster travel times and cheaper rides. Here is how UberPool works: it matches different riders heading in the same direction, giving a driver two pick-up and two drop-off locations on the same trip. UberPool is limited to two riders per trip, which means that sometimes a driver has to choose which request to accept.\n",
    "\n",
    "Consider a city represented as integer points on the Cartesian plane, with roads parallel to the axes. There's a driver who picked up a passanger at point A and is heading to point B with them, taking one of the shortest possible routes. When the driver reaches point C, she receives two more requests: one from a rider at point X, another from a rider at point Y. Both riders are also going to point B.\n",
    "\n",
    "Your task is to find out which additional rider should be picked up (if any), taking into account that the final length of the trip can't be more than two times longer than the length of the trip with no extra riders. If both requests meet this condition, accept the one with the shortes route. If the lengths of the routws are the same, accept the first request."
   ]
  },
  {
   "cell_type": "markdown",
   "metadata": {},
   "source": [
    "### Execute \n",
    "```python\n",
    "python3 Question1.py\n",
    "``` \n",
    "### or simply run the code cells in order. (Shift + Enter)"
   ]
  },
  {
   "cell_type": "code",
   "execution_count": 1,
   "metadata": {
    "collapsed": true
   },
   "outputs": [],
   "source": [
    "# Starting point    -     A\n",
    "# Ending point      -     B\n",
    "# Current position  -     C\n",
    "# Rider 1           -     X\n",
    "# Rider 2           -     Y"
   ]
  },
  {
   "cell_type": "code",
   "execution_count": 2,
   "metadata": {
    "collapsed": true
   },
   "outputs": [],
   "source": [
    "## conditions\n",
    "# - final length of the trip can't be more than two times longer than the length of the trip with no extra riders\n",
    "# - if both requests meet this condition, accept the one with the shortes route\n",
    "# - if lengths of the routes are the same, accept the first request"
   ]
  },
  {
   "cell_type": "code",
   "execution_count": 3,
   "metadata": {
    "collapsed": true
   },
   "outputs": [],
   "source": [
    "# input  - coordinates of A, B, C, X, Y\n",
    "# output - 1 or 2 or -1\n",
    "\n",
    "# assumed input format (2-D Cartesian plane):\n",
    "## Ax Ay\n",
    "## Bx By\n",
    "## Cx Cy\n",
    "## Xx Xy\n",
    "## Yx Yy"
   ]
  },
  {
   "cell_type": "code",
   "execution_count": 4,
   "metadata": {
    "collapsed": true
   },
   "outputs": [],
   "source": [
    "def main():\n",
    "    \"\"\"\n",
    "    Executes as soon as this script is run.\n",
    "    - Takes custom input\n",
    "    - Returns serial number of the request that should be accepted by the Uber driver\n",
    "    - If none is feasible, returns -1\n",
    "    \"\"\"\n",
    "    \n",
    "    A = tuple(map(int, input().split())) # departure point\n",
    "    B = tuple(map(int, input().split())) # arrival point\n",
    "    C = tuple(map(int, input().split())) # position at which the requests came in\n",
    "    X = tuple(map(int, input().split())) # riderX\n",
    "    Y = tuple(map(int, input().split())) # riderY\n",
    "    \n",
    "    # dis   - total trip distance\n",
    "    # disAC - distance covered when the requests came in\n",
    "    # disCX - distance between the current position and riderX\n",
    "    # disCY - distance between the current position and riderY\n",
    "    # disXB - distance between riderX and the final destination\n",
    "    # disYB - distance between riderY and the final destination\n",
    "    dis, disAC, disCX, disCY, disXB, disYB = path(A, B), path(A, C), path(C, X), path(C, Y), path(X, B), path(Y, B)\n",
    "    \n",
    "    # disX - total distance to be covered if riderX is picked up\n",
    "    # disY - total distance to be covered if riderY is picked up\n",
    "    disX, disY = disAC + disCX + disXB, disAC + disCY + disYB \n",
    "    \n",
    "    # conditions to check for\n",
    "    # i.e. both disX and disY must be smaller than double of the total trip distance in case no requests came in\n",
    "    one, two = disX <= dis * 2, disY <= dis * 2 \n",
    "    \n",
    "    if one and disX < disY:\n",
    "        return 1  # pick up riderX\n",
    "    elif two and disX > disY:\n",
    "        return 2  # pick up riderY\n",
    "    elif one and two and disX == disY:\n",
    "        return 1  # pick up riderX if both disX and disY are equal; as the first request needs to be accepted\n",
    "    else:\n",
    "        return -1 # return -1 if none is feasible"
   ]
  },
  {
   "cell_type": "code",
   "execution_count": 5,
   "metadata": {
    "collapsed": true
   },
   "outputs": [],
   "source": [
    "def path(P, Q):\n",
    "    \"\"\"\n",
    "    Returns the shortest path between any two points on the 2-D Cartesian system by calculating the absolute\n",
    "    difference between x and y coordinates.\n",
    "    \n",
    "    Parameters\n",
    "    ----------\n",
    "    tuple P, tuple Q : each tuple is of the form (x, y) - denoting x and y coordinate values\n",
    "    \n",
    "    Returns\n",
    "    -------\n",
    "    type: int\n",
    "    description: one of the shortest paths between the given points\n",
    "    \"\"\"\n",
    "    \n",
    "    # this is not a straight-line path as the roads are assumed to be parallel to the axes according to the queston\n",
    "    return abs(P[0] - Q[0]) + abs(P[1] - Q[1]) "
   ]
  },
  {
   "cell_type": "code",
   "execution_count": 6,
   "metadata": {},
   "outputs": [
    {
     "name": "stdout",
     "output_type": "stream",
     "text": [
      "0 0\n",
      "3 3\n",
      "3 1\n",
      "5 0\n",
      "2 2\n",
      "2\n"
     ]
    }
   ],
   "source": [
    "if __name__ == '__main__':\n",
    "    main() # replace it with print(main()) to print to stdout"
   ]
  }
 ],
 "metadata": {
  "kernelspec": {
   "display_name": "Python 3",
   "language": "python",
   "name": "python3"
  },
  "language_info": {
   "codemirror_mode": {
    "name": "ipython",
    "version": 3
   },
   "file_extension": ".py",
   "mimetype": "text/x-python",
   "name": "python",
   "nbconvert_exporter": "python",
   "pygments_lexer": "ipython3",
   "version": "3.5.2"
  }
 },
 "nbformat": 4,
 "nbformat_minor": 2
}

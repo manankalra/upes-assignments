{
 "cells": [
  {
   "cell_type": "markdown",
   "metadata": {},
   "source": [
    "# Manan Kalra [CSE-CCVT (2014-2018)]\n"
   ]
  },
  {
   "cell_type": "markdown",
   "metadata": {},
   "source": [
    "### Question 3"
   ]
  },
  {
   "cell_type": "markdown",
   "metadata": {},
   "source": [
    "Vidhi went to a magic show last week where she was astounded by a magic trick performed by the great Mandwarf, the \n",
    "brown. His trick was as follows :\n",
    "\n",
    "- Ask a volunteer from the audience to write down a list L of N integers.\n",
    "- Ask another volunteer from the audience to provide three integers A, B, C\n",
    "- Ask another volunteer from the audience to provide N length string called S where each letter is either 'R', 'A' or 'M'\n",
    "- Close his eyes for a split second and give the output of The Ancient Algorithm on this input.\n",
    "\n",
    "We all know that The Ancient Algorithm is as follows :\n",
    "\n",
    "```python\n",
    "for i from 1 to N do \n",
    "    if ith letter of S is 'R'\n",
    "        reverse L[i...N]\n",
    "    else if ith letter of S is 'A'\n",
    "        add A to all numbers of L[i..N].\n",
    "    else if ith letter of S is 'M'\n",
    "        multiply B to all numbers of L[i..N].\n",
    "\n",
    "    for all number in L[i..N], module them by C.\n",
    "\n",
    "    announce L[i] out loud\n",
    "    \n",
    "end\n",
    "```\n",
    "\n",
    "Vidhi's boyfriend got jealous when he saw her getting impressed by Mandwarf, the brown's wisdom. He wants to learn the trick to gain her undivided admiration. How about you help him?"
   ]
  },
  {
   "cell_type": "markdown",
   "metadata": {},
   "source": [
    "### Execute \n",
    "```python\n",
    "python3 Question3.py\n",
    "``` \n",
    "### or simply run the code cells in order. (Shift + Enter)"
   ]
  },
  {
   "cell_type": "code",
   "execution_count": 1,
   "metadata": {
    "collapsed": true
   },
   "outputs": [],
   "source": [
    "# input  - size of list, list itself, integers named A, B & C, string of length size\n",
    "# output - result of the Ancient Algorithm "
   ]
  },
  {
   "cell_type": "code",
   "execution_count": 2,
   "metadata": {
    "collapsed": true
   },
   "outputs": [],
   "source": [
    "def main():\n",
    "    \"\"\"\n",
    "    Executes as soon as this script is run.\n",
    "    - Takes custom input\n",
    "    - Returns the result of the Ancient Algorithm\n",
    "    \"\"\"\n",
    "    \n",
    "    num = int(input()) # number of test cases\n",
    "    for i in range(num):\n",
    "        size = int(input()) # size of the list\n",
    "        arr = list(map(int, input().split())) # space-separated input list of length size\n",
    "        A, B, C = list(map(int, input().split())) # integers A, B & C\n",
    "        string = input() # string of length size; contains only A, R & M alphabets\n",
    "        result = ancient(size, arr, A, B, C, string) # calling the function that implements Ancient Algorithm\n",
    "        for i in result:\n",
    "            print(i, end=' ') # printing the result to stdout"
   ]
  },
  {
   "cell_type": "code",
   "execution_count": 3,
   "metadata": {
    "collapsed": true
   },
   "outputs": [],
   "source": [
    "def ancient(size, arr, A, B, C, string):\n",
    "    \"\"\"\n",
    "    Implements Ancient Algorithm.\n",
    "    \n",
    "    Parameters\n",
    "    ----------\n",
    "    \n",
    "    size, arr, A, B, C, string : size of the list, list, integers A, B and C, string\n",
    "    \n",
    "    Returns\n",
    "    -------\n",
    "    \n",
    "    type: list\n",
    "    description: manipulated version of arr as a result of the Ancient Algorithm\n",
    "    \"\"\"\n",
    "    \n",
    "    for i in range(size):\n",
    "        x = string[i]\n",
    "        pre = [j for j in arr[0:i]] # split-up list that needs not to be mutated\n",
    "        if x == 'R':\n",
    "            arr[i:size] = reversed(arr[i:size]) # reversing the list from position i to size\n",
    "        elif x == 'A':\n",
    "            post = [j + A for j in arr[i:size]] # adding A to every element of of list from position i to size\n",
    "            arr = pre + post # appending\n",
    "        elif x == 'M':\n",
    "            post = [j * B for j in arr[i:size]] # multiplying every element of list from position i to size by B\n",
    "            arr = pre + post # appending\n",
    "        after = [j % C for j in arr[i:size]] # taking modulo of every element of list from position i to size with C\n",
    "        arr = pre + after # appending\n",
    "    return arr # returns the final result"
   ]
  },
  {
   "cell_type": "code",
   "execution_count": 4,
   "metadata": {},
   "outputs": [
    {
     "name": "stdout",
     "output_type": "stream",
     "text": [
      "2\n",
      "3\n",
      "1 1 1\n",
      "2 3 1000\n",
      "ARM\n",
      "3 3 9 \n",
      "4\n",
      "1 2 3 4\n",
      "0 1 1000\n",
      "AMAM\n",
      "1 2 3 4 \n"
     ]
    }
   ],
   "source": [
    "if __name__ == '__main__':\n",
    "    main()"
   ]
  }
 ],
 "metadata": {
  "kernelspec": {
   "display_name": "Python 3",
   "language": "python",
   "name": "python3"
  },
  "language_info": {
   "codemirror_mode": {
    "name": "ipython",
    "version": 3
   },
   "file_extension": ".py",
   "mimetype": "text/x-python",
   "name": "python",
   "nbconvert_exporter": "python",
   "pygments_lexer": "ipython3",
   "version": "3.5.2"
  }
 },
 "nbformat": 4,
 "nbformat_minor": 2
}

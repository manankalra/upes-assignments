{
 "cells": [
  {
   "cell_type": "markdown",
   "metadata": {},
   "source": [
    "# Manan Kalra [CSE-CCVT (2014-2018)]"
   ]
  },
  {
   "cell_type": "markdown",
   "metadata": {},
   "source": [
    "### Question 2"
   ]
  },
  {
   "cell_type": "markdown",
   "metadata": {},
   "source": [
    "Consider a lonely Uber driver working in a big city. He has N requests that he has to grant exactly in the given order. The route is already mapped out for him and we can assume that he picks up a new passenger at exactly the same spot where he drops off the previous one.\n",
    "\n",
    "Each request consists of two numbers: the time by which the rider will be ready to go, and the time by which the rider will cancel the request if the car is not there. This means that if the driver arrives too early, he'll have to wait to pick up the passenger. If he arrives too late, the ride will be canceled.\n",
    "\n",
    "Knowing the requests' details and the time it takes to travel from one to the next, determine the minimum amount of time the given route will take, or return -1 if it is impossible to service all the requests.\n",
    "\n",
    "Note that as you're given the driver's daily plan, the answer is smaller than the number of seconds in a day (24 * 60 * 60 = 86400)."
   ]
  },
  {
   "cell_type": "markdown",
   "metadata": {},
   "source": [
    "### Execute \n",
    "```python\n",
    "python3 Question2.py\n",
    "``` \n",
    "### or simply run the code cells in order. (Shift + Enter)"
   ]
  },
  {
   "cell_type": "code",
   "execution_count": 1,
   "metadata": {
    "collapsed": true
   },
   "outputs": [],
   "source": [
    "# assumed input format - as stated in the question\n",
    "## space separated list of travelTimes\n",
    "## space separated list of readyTimes\n",
    "## space separated list of cancelTimes\n",
    "\n",
    "# output\n",
    "## minimum time taken to cover the route distance\n",
    "## if it's imposssible to service any of the requests"
   ]
  },
  {
   "cell_type": "code",
   "execution_count": 2,
   "metadata": {
    "collapsed": true
   },
   "outputs": [],
   "source": [
    "## conditions\n",
    "# - time taken is always smaller than the number of seconds in a day i.e. 86400\n",
    "# - if the driver arries too early, he'll have to wait \n",
    "# - if the driver arrives too late, the ride will be cancelled"
   ]
  },
  {
   "cell_type": "code",
   "execution_count": 3,
   "metadata": {
    "collapsed": true
   },
   "outputs": [],
   "source": [
    "def main():\n",
    "    \"\"\"\n",
    "    Executes as soon as this script is run.\n",
    "    - Takes custom input\n",
    "    - Returns minimum time taken to cover the route\n",
    "    - If any of the requests can't be servied, returns -1\n",
    "    \"\"\"\n",
    "    travelTimes = list(map(int, input().split())) # travel time between the (i)th and (i+1)th posiiton\n",
    "    readyTimes = list(map(int, input().split())) # times at which riders will be ready for pick up\n",
    "    cancelTimes = list(map(int, input().split())) # times at which riders will cancel the ride \n",
    "    time = calMinT(travelTimes, readyTimes, cancelTimes)\n",
    "    print(time)"
   ]
  },
  {
   "cell_type": "code",
   "execution_count": 4,
   "metadata": {
    "collapsed": true
   },
   "outputs": [],
   "source": [
    "def calMinT(travelTimes, readyTimes, cancelTimes):\n",
    "    \"\"\"\n",
    "    Calculates minimum time spent to cover the route distance in accordance to the travelTimes, readyTimes and\n",
    "    cancelTimes given.\n",
    "    \n",
    "    Parameters\n",
    "    ----------\n",
    "    \n",
    "    travelTimes, readyTimes and cancelTimes\n",
    "    \n",
    "    Returns\n",
    "    -------\n",
    "    \n",
    "    type: int\n",
    "    description: minimum time taken to cover the route distance which is always smaller than 86400; returns -1, if\n",
    "    any of the requests can't be serviced\n",
    "    \"\"\"\n",
    "    \n",
    "    elapsed = 0\n",
    "    # time spent on before picking up the first passanger is always equal to the time at which he is ready\n",
    "    elapsed += readyTimes[0] \n",
    "    possible = True # keeps a check if any of the requests fail to be serviced by the driver\n",
    "    \n",
    "    # iterating from second rider to the last rider; (first rider's readyTime is already added to the elapsed time)\n",
    "    for i in range(1, len(readyTimes)):\n",
    "        # if the driver reaches before the rider cancels the request\n",
    "        if readyTimes[i] <= elapsed + travelTimes[i-1] and readyTimes[i] + cancelTimes[i] >= elapsed + travelTimes[i-1]:\n",
    "            # len(travelTimes) = len(readyTimes) - 1\n",
    "            # adding travelTime of the covered route before servicing the next request\n",
    "            elapsed += travelTimes[i-1] \n",
    "        elif readyTimes[i] > elapsed + travelTimes[i-1]:\n",
    "            # in case driver reaches the servicing point before the readyTime\n",
    "            # elapsed time will equal the readyTime\n",
    "            elapsed = readyTimes[i]\n",
    "        else:\n",
    "            possible = False # can't service a request\n",
    "            break\n",
    "            \n",
    "    ## catch\n",
    "    ## in case driver decides to reach the first rider exactly before cancelTime[0]\n",
    "    ## this can be done in order to minimize time spend on the route\n",
    "    elapsed += readyTimes[0] - cancelTimes[0]\n",
    "    \n",
    "    if not possible or elapsed > 86400:\n",
    "        return -1 # if possible is False or elapsed time exceeds the upper limit of 86400\n",
    "    else:\n",
    "        return elapsed"
   ]
  },
  {
   "cell_type": "code",
   "execution_count": 5,
   "metadata": {},
   "outputs": [
    {
     "name": "stdout",
     "output_type": "stream",
     "text": [
      "3000 5000\n",
      "0 8000 20000\n",
      "2000 10000 30000\n",
      "18000\n"
     ]
    }
   ],
   "source": [
    "if __name__ == '__main__':\n",
    "    main()"
   ]
  },
  {
   "cell_type": "markdown",
   "metadata": {},
   "source": [
    "Explanation\n",
    "-------------\n",
    "\n",
    "For the given test case:\n",
    "\n",
    "num of positions = A - B - C\n",
    "\n",
    "time taken to reach from A to B is 3000\n",
    "time taken to reach from B to C is 5000\n",
    "\n",
    "A is ready at O and will cancel by 2000, so driver has to reach the service point or A's position at 2000 to spend minimum time on the route.\n",
    "\n",
    "totalRouteTime   = 0 + ---- + 3000 + 3000 + 5000 + 7000 = 18000 (output)\n",
    "\n",
    "totalElapsedTime = 0 + 2000 + 3000 + 3000 + 5000 + 7000 = 20000"
   ]
  }
 ],
 "metadata": {
  "kernelspec": {
   "display_name": "Python 3",
   "language": "python",
   "name": "python3"
  },
  "language_info": {
   "codemirror_mode": {
    "name": "ipython",
    "version": 3
   },
   "file_extension": ".py",
   "mimetype": "text/x-python",
   "name": "python",
   "nbconvert_exporter": "python",
   "pygments_lexer": "ipython3",
   "version": "3.5.2"
  }
 },
 "nbformat": 4,
 "nbformat_minor": 2
}
